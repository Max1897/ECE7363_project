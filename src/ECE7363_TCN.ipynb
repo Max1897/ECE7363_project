{
  "nbformat": 4,
  "nbformat_minor": 0,
  "metadata": {
    "colab": {
      "provenance": [],
      "machine_shape": "hm",
      "gpuType": "T4",
      "authorship_tag": "ABX9TyMr8NtJDNkviI0O6rplT2OK",
      "include_colab_link": true
    },
    "kernelspec": {
      "name": "python3",
      "display_name": "Python 3"
    },
    "language_info": {
      "name": "python"
    },
    "accelerator": "GPU",
    "gpuClass": "standard",
    "widgets": {
      "application/vnd.jupyter.widget-state+json": {
        "9cde7862817f4a4099b11b6431e6328b": {
          "model_module": "@jupyter-widgets/controls",
          "model_name": "HBoxModel",
          "model_module_version": "1.5.0",
          "state": {
            "_dom_classes": [],
            "_model_module": "@jupyter-widgets/controls",
            "_model_module_version": "1.5.0",
            "_model_name": "HBoxModel",
            "_view_count": null,
            "_view_module": "@jupyter-widgets/controls",
            "_view_module_version": "1.5.0",
            "_view_name": "HBoxView",
            "box_style": "",
            "children": [
              "IPY_MODEL_8e128dc277164d11b0b29ceacba0156d",
              "IPY_MODEL_56baf4c4f204445bb2268c836f30b8cb",
              "IPY_MODEL_e7f9d7aacbb14e319fc4b6e2e1b56fa3"
            ],
            "layout": "IPY_MODEL_344a14527f9b4ff39a36403d9139d889"
          }
        },
        "8e128dc277164d11b0b29ceacba0156d": {
          "model_module": "@jupyter-widgets/controls",
          "model_name": "HTMLModel",
          "model_module_version": "1.5.0",
          "state": {
            "_dom_classes": [],
            "_model_module": "@jupyter-widgets/controls",
            "_model_module_version": "1.5.0",
            "_model_name": "HTMLModel",
            "_view_count": null,
            "_view_module": "@jupyter-widgets/controls",
            "_view_module_version": "1.5.0",
            "_view_name": "HTMLView",
            "description": "",
            "description_tooltip": null,
            "layout": "IPY_MODEL_8c299b0df07f47e98ea564bc516da577",
            "placeholder": "​",
            "style": "IPY_MODEL_5c29708c114647cea8fa29320814d653",
            "value": "100%"
          }
        },
        "56baf4c4f204445bb2268c836f30b8cb": {
          "model_module": "@jupyter-widgets/controls",
          "model_name": "FloatProgressModel",
          "model_module_version": "1.5.0",
          "state": {
            "_dom_classes": [],
            "_model_module": "@jupyter-widgets/controls",
            "_model_module_version": "1.5.0",
            "_model_name": "FloatProgressModel",
            "_view_count": null,
            "_view_module": "@jupyter-widgets/controls",
            "_view_module_version": "1.5.0",
            "_view_name": "ProgressView",
            "bar_style": "success",
            "description": "",
            "description_tooltip": null,
            "layout": "IPY_MODEL_be4ec68e1e59494d8b201d1aedf9726a",
            "max": 4039,
            "min": 0,
            "orientation": "horizontal",
            "style": "IPY_MODEL_ea59f7bef86d498786655050a3a8116b",
            "value": 4039
          }
        },
        "e7f9d7aacbb14e319fc4b6e2e1b56fa3": {
          "model_module": "@jupyter-widgets/controls",
          "model_name": "HTMLModel",
          "model_module_version": "1.5.0",
          "state": {
            "_dom_classes": [],
            "_model_module": "@jupyter-widgets/controls",
            "_model_module_version": "1.5.0",
            "_model_name": "HTMLModel",
            "_view_count": null,
            "_view_module": "@jupyter-widgets/controls",
            "_view_module_version": "1.5.0",
            "_view_name": "HTMLView",
            "description": "",
            "description_tooltip": null,
            "layout": "IPY_MODEL_c39c924837c145e3906d9bdbf4cb6733",
            "placeholder": "​",
            "style": "IPY_MODEL_3594eb38b3674e42a2cbd1b6ee4d20f8",
            "value": " 4039/4039 [00:11&lt;00:00, 162.18it/s]"
          }
        },
        "344a14527f9b4ff39a36403d9139d889": {
          "model_module": "@jupyter-widgets/base",
          "model_name": "LayoutModel",
          "model_module_version": "1.2.0",
          "state": {
            "_model_module": "@jupyter-widgets/base",
            "_model_module_version": "1.2.0",
            "_model_name": "LayoutModel",
            "_view_count": null,
            "_view_module": "@jupyter-widgets/base",
            "_view_module_version": "1.2.0",
            "_view_name": "LayoutView",
            "align_content": null,
            "align_items": null,
            "align_self": null,
            "border": null,
            "bottom": null,
            "display": null,
            "flex": null,
            "flex_flow": null,
            "grid_area": null,
            "grid_auto_columns": null,
            "grid_auto_flow": null,
            "grid_auto_rows": null,
            "grid_column": null,
            "grid_gap": null,
            "grid_row": null,
            "grid_template_areas": null,
            "grid_template_columns": null,
            "grid_template_rows": null,
            "height": null,
            "justify_content": null,
            "justify_items": null,
            "left": null,
            "margin": null,
            "max_height": null,
            "max_width": null,
            "min_height": null,
            "min_width": null,
            "object_fit": null,
            "object_position": null,
            "order": null,
            "overflow": null,
            "overflow_x": null,
            "overflow_y": null,
            "padding": null,
            "right": null,
            "top": null,
            "visibility": null,
            "width": null
          }
        },
        "8c299b0df07f47e98ea564bc516da577": {
          "model_module": "@jupyter-widgets/base",
          "model_name": "LayoutModel",
          "model_module_version": "1.2.0",
          "state": {
            "_model_module": "@jupyter-widgets/base",
            "_model_module_version": "1.2.0",
            "_model_name": "LayoutModel",
            "_view_count": null,
            "_view_module": "@jupyter-widgets/base",
            "_view_module_version": "1.2.0",
            "_view_name": "LayoutView",
            "align_content": null,
            "align_items": null,
            "align_self": null,
            "border": null,
            "bottom": null,
            "display": null,
            "flex": null,
            "flex_flow": null,
            "grid_area": null,
            "grid_auto_columns": null,
            "grid_auto_flow": null,
            "grid_auto_rows": null,
            "grid_column": null,
            "grid_gap": null,
            "grid_row": null,
            "grid_template_areas": null,
            "grid_template_columns": null,
            "grid_template_rows": null,
            "height": null,
            "justify_content": null,
            "justify_items": null,
            "left": null,
            "margin": null,
            "max_height": null,
            "max_width": null,
            "min_height": null,
            "min_width": null,
            "object_fit": null,
            "object_position": null,
            "order": null,
            "overflow": null,
            "overflow_x": null,
            "overflow_y": null,
            "padding": null,
            "right": null,
            "top": null,
            "visibility": null,
            "width": null
          }
        },
        "5c29708c114647cea8fa29320814d653": {
          "model_module": "@jupyter-widgets/controls",
          "model_name": "DescriptionStyleModel",
          "model_module_version": "1.5.0",
          "state": {
            "_model_module": "@jupyter-widgets/controls",
            "_model_module_version": "1.5.0",
            "_model_name": "DescriptionStyleModel",
            "_view_count": null,
            "_view_module": "@jupyter-widgets/base",
            "_view_module_version": "1.2.0",
            "_view_name": "StyleView",
            "description_width": ""
          }
        },
        "be4ec68e1e59494d8b201d1aedf9726a": {
          "model_module": "@jupyter-widgets/base",
          "model_name": "LayoutModel",
          "model_module_version": "1.2.0",
          "state": {
            "_model_module": "@jupyter-widgets/base",
            "_model_module_version": "1.2.0",
            "_model_name": "LayoutModel",
            "_view_count": null,
            "_view_module": "@jupyter-widgets/base",
            "_view_module_version": "1.2.0",
            "_view_name": "LayoutView",
            "align_content": null,
            "align_items": null,
            "align_self": null,
            "border": null,
            "bottom": null,
            "display": null,
            "flex": null,
            "flex_flow": null,
            "grid_area": null,
            "grid_auto_columns": null,
            "grid_auto_flow": null,
            "grid_auto_rows": null,
            "grid_column": null,
            "grid_gap": null,
            "grid_row": null,
            "grid_template_areas": null,
            "grid_template_columns": null,
            "grid_template_rows": null,
            "height": null,
            "justify_content": null,
            "justify_items": null,
            "left": null,
            "margin": null,
            "max_height": null,
            "max_width": null,
            "min_height": null,
            "min_width": null,
            "object_fit": null,
            "object_position": null,
            "order": null,
            "overflow": null,
            "overflow_x": null,
            "overflow_y": null,
            "padding": null,
            "right": null,
            "top": null,
            "visibility": null,
            "width": null
          }
        },
        "ea59f7bef86d498786655050a3a8116b": {
          "model_module": "@jupyter-widgets/controls",
          "model_name": "ProgressStyleModel",
          "model_module_version": "1.5.0",
          "state": {
            "_model_module": "@jupyter-widgets/controls",
            "_model_module_version": "1.5.0",
            "_model_name": "ProgressStyleModel",
            "_view_count": null,
            "_view_module": "@jupyter-widgets/base",
            "_view_module_version": "1.2.0",
            "_view_name": "StyleView",
            "bar_color": null,
            "description_width": ""
          }
        },
        "c39c924837c145e3906d9bdbf4cb6733": {
          "model_module": "@jupyter-widgets/base",
          "model_name": "LayoutModel",
          "model_module_version": "1.2.0",
          "state": {
            "_model_module": "@jupyter-widgets/base",
            "_model_module_version": "1.2.0",
            "_model_name": "LayoutModel",
            "_view_count": null,
            "_view_module": "@jupyter-widgets/base",
            "_view_module_version": "1.2.0",
            "_view_name": "LayoutView",
            "align_content": null,
            "align_items": null,
            "align_self": null,
            "border": null,
            "bottom": null,
            "display": null,
            "flex": null,
            "flex_flow": null,
            "grid_area": null,
            "grid_auto_columns": null,
            "grid_auto_flow": null,
            "grid_auto_rows": null,
            "grid_column": null,
            "grid_gap": null,
            "grid_row": null,
            "grid_template_areas": null,
            "grid_template_columns": null,
            "grid_template_rows": null,
            "height": null,
            "justify_content": null,
            "justify_items": null,
            "left": null,
            "margin": null,
            "max_height": null,
            "max_width": null,
            "min_height": null,
            "min_width": null,
            "object_fit": null,
            "object_position": null,
            "order": null,
            "overflow": null,
            "overflow_x": null,
            "overflow_y": null,
            "padding": null,
            "right": null,
            "top": null,
            "visibility": null,
            "width": null
          }
        },
        "3594eb38b3674e42a2cbd1b6ee4d20f8": {
          "model_module": "@jupyter-widgets/controls",
          "model_name": "DescriptionStyleModel",
          "model_module_version": "1.5.0",
          "state": {
            "_model_module": "@jupyter-widgets/controls",
            "_model_module_version": "1.5.0",
            "_model_name": "DescriptionStyleModel",
            "_view_count": null,
            "_view_module": "@jupyter-widgets/base",
            "_view_module_version": "1.2.0",
            "_view_name": "StyleView",
            "description_width": ""
          }
        },
        "7aebfa54de4645b68ebdec79ba82f782": {
          "model_module": "@jupyter-widgets/controls",
          "model_name": "HBoxModel",
          "model_module_version": "1.5.0",
          "state": {
            "_dom_classes": [],
            "_model_module": "@jupyter-widgets/controls",
            "_model_module_version": "1.5.0",
            "_model_name": "HBoxModel",
            "_view_count": null,
            "_view_module": "@jupyter-widgets/controls",
            "_view_module_version": "1.5.0",
            "_view_name": "HBoxView",
            "box_style": "",
            "children": [
              "IPY_MODEL_f0f873d51b1c4befb5a2a7875f1af930",
              "IPY_MODEL_9df849ebb3544edcb0efdb50e056f82f",
              "IPY_MODEL_60987daf9f8045b7b495cca59243355d"
            ],
            "layout": "IPY_MODEL_4aab8639b59e4a8194fcf49b8b3bcf0b"
          }
        },
        "f0f873d51b1c4befb5a2a7875f1af930": {
          "model_module": "@jupyter-widgets/controls",
          "model_name": "HTMLModel",
          "model_module_version": "1.5.0",
          "state": {
            "_dom_classes": [],
            "_model_module": "@jupyter-widgets/controls",
            "_model_module_version": "1.5.0",
            "_model_name": "HTMLModel",
            "_view_count": null,
            "_view_module": "@jupyter-widgets/controls",
            "_view_module_version": "1.5.0",
            "_view_name": "HTMLView",
            "description": "",
            "description_tooltip": null,
            "layout": "IPY_MODEL_a7da9a395f6240329c18e51f13ff6cad",
            "placeholder": "​",
            "style": "IPY_MODEL_60ff1cbae2474013adce700bfe428992",
            "value": "100%"
          }
        },
        "9df849ebb3544edcb0efdb50e056f82f": {
          "model_module": "@jupyter-widgets/controls",
          "model_name": "FloatProgressModel",
          "model_module_version": "1.5.0",
          "state": {
            "_dom_classes": [],
            "_model_module": "@jupyter-widgets/controls",
            "_model_module_version": "1.5.0",
            "_model_name": "FloatProgressModel",
            "_view_count": null,
            "_view_module": "@jupyter-widgets/controls",
            "_view_module_version": "1.5.0",
            "_view_name": "ProgressView",
            "bar_style": "success",
            "description": "",
            "description_tooltip": null,
            "layout": "IPY_MODEL_c6368847299146948b2d64c1f6f29dfe",
            "max": 1345,
            "min": 0,
            "orientation": "horizontal",
            "style": "IPY_MODEL_dd6e9178610e4af08da98bf6e7e3878b",
            "value": 1345
          }
        },
        "60987daf9f8045b7b495cca59243355d": {
          "model_module": "@jupyter-widgets/controls",
          "model_name": "HTMLModel",
          "model_module_version": "1.5.0",
          "state": {
            "_dom_classes": [],
            "_model_module": "@jupyter-widgets/controls",
            "_model_module_version": "1.5.0",
            "_model_name": "HTMLModel",
            "_view_count": null,
            "_view_module": "@jupyter-widgets/controls",
            "_view_module_version": "1.5.0",
            "_view_name": "HTMLView",
            "description": "",
            "description_tooltip": null,
            "layout": "IPY_MODEL_6c6ba4e4ce8a488fb88d31c3e8d1d401",
            "placeholder": "​",
            "style": "IPY_MODEL_6f1f8de2d9d8411b8c8d831cb1f0f05c",
            "value": " 1345/1345 [00:00&lt;00:00, 3492.09it/s]"
          }
        },
        "4aab8639b59e4a8194fcf49b8b3bcf0b": {
          "model_module": "@jupyter-widgets/base",
          "model_name": "LayoutModel",
          "model_module_version": "1.2.0",
          "state": {
            "_model_module": "@jupyter-widgets/base",
            "_model_module_version": "1.2.0",
            "_model_name": "LayoutModel",
            "_view_count": null,
            "_view_module": "@jupyter-widgets/base",
            "_view_module_version": "1.2.0",
            "_view_name": "LayoutView",
            "align_content": null,
            "align_items": null,
            "align_self": null,
            "border": null,
            "bottom": null,
            "display": null,
            "flex": null,
            "flex_flow": null,
            "grid_area": null,
            "grid_auto_columns": null,
            "grid_auto_flow": null,
            "grid_auto_rows": null,
            "grid_column": null,
            "grid_gap": null,
            "grid_row": null,
            "grid_template_areas": null,
            "grid_template_columns": null,
            "grid_template_rows": null,
            "height": null,
            "justify_content": null,
            "justify_items": null,
            "left": null,
            "margin": null,
            "max_height": null,
            "max_width": null,
            "min_height": null,
            "min_width": null,
            "object_fit": null,
            "object_position": null,
            "order": null,
            "overflow": null,
            "overflow_x": null,
            "overflow_y": null,
            "padding": null,
            "right": null,
            "top": null,
            "visibility": null,
            "width": null
          }
        },
        "a7da9a395f6240329c18e51f13ff6cad": {
          "model_module": "@jupyter-widgets/base",
          "model_name": "LayoutModel",
          "model_module_version": "1.2.0",
          "state": {
            "_model_module": "@jupyter-widgets/base",
            "_model_module_version": "1.2.0",
            "_model_name": "LayoutModel",
            "_view_count": null,
            "_view_module": "@jupyter-widgets/base",
            "_view_module_version": "1.2.0",
            "_view_name": "LayoutView",
            "align_content": null,
            "align_items": null,
            "align_self": null,
            "border": null,
            "bottom": null,
            "display": null,
            "flex": null,
            "flex_flow": null,
            "grid_area": null,
            "grid_auto_columns": null,
            "grid_auto_flow": null,
            "grid_auto_rows": null,
            "grid_column": null,
            "grid_gap": null,
            "grid_row": null,
            "grid_template_areas": null,
            "grid_template_columns": null,
            "grid_template_rows": null,
            "height": null,
            "justify_content": null,
            "justify_items": null,
            "left": null,
            "margin": null,
            "max_height": null,
            "max_width": null,
            "min_height": null,
            "min_width": null,
            "object_fit": null,
            "object_position": null,
            "order": null,
            "overflow": null,
            "overflow_x": null,
            "overflow_y": null,
            "padding": null,
            "right": null,
            "top": null,
            "visibility": null,
            "width": null
          }
        },
        "60ff1cbae2474013adce700bfe428992": {
          "model_module": "@jupyter-widgets/controls",
          "model_name": "DescriptionStyleModel",
          "model_module_version": "1.5.0",
          "state": {
            "_model_module": "@jupyter-widgets/controls",
            "_model_module_version": "1.5.0",
            "_model_name": "DescriptionStyleModel",
            "_view_count": null,
            "_view_module": "@jupyter-widgets/base",
            "_view_module_version": "1.2.0",
            "_view_name": "StyleView",
            "description_width": ""
          }
        },
        "c6368847299146948b2d64c1f6f29dfe": {
          "model_module": "@jupyter-widgets/base",
          "model_name": "LayoutModel",
          "model_module_version": "1.2.0",
          "state": {
            "_model_module": "@jupyter-widgets/base",
            "_model_module_version": "1.2.0",
            "_model_name": "LayoutModel",
            "_view_count": null,
            "_view_module": "@jupyter-widgets/base",
            "_view_module_version": "1.2.0",
            "_view_name": "LayoutView",
            "align_content": null,
            "align_items": null,
            "align_self": null,
            "border": null,
            "bottom": null,
            "display": null,
            "flex": null,
            "flex_flow": null,
            "grid_area": null,
            "grid_auto_columns": null,
            "grid_auto_flow": null,
            "grid_auto_rows": null,
            "grid_column": null,
            "grid_gap": null,
            "grid_row": null,
            "grid_template_areas": null,
            "grid_template_columns": null,
            "grid_template_rows": null,
            "height": null,
            "justify_content": null,
            "justify_items": null,
            "left": null,
            "margin": null,
            "max_height": null,
            "max_width": null,
            "min_height": null,
            "min_width": null,
            "object_fit": null,
            "object_position": null,
            "order": null,
            "overflow": null,
            "overflow_x": null,
            "overflow_y": null,
            "padding": null,
            "right": null,
            "top": null,
            "visibility": null,
            "width": null
          }
        },
        "dd6e9178610e4af08da98bf6e7e3878b": {
          "model_module": "@jupyter-widgets/controls",
          "model_name": "ProgressStyleModel",
          "model_module_version": "1.5.0",
          "state": {
            "_model_module": "@jupyter-widgets/controls",
            "_model_module_version": "1.5.0",
            "_model_name": "ProgressStyleModel",
            "_view_count": null,
            "_view_module": "@jupyter-widgets/base",
            "_view_module_version": "1.2.0",
            "_view_name": "StyleView",
            "bar_color": null,
            "description_width": ""
          }
        },
        "6c6ba4e4ce8a488fb88d31c3e8d1d401": {
          "model_module": "@jupyter-widgets/base",
          "model_name": "LayoutModel",
          "model_module_version": "1.2.0",
          "state": {
            "_model_module": "@jupyter-widgets/base",
            "_model_module_version": "1.2.0",
            "_model_name": "LayoutModel",
            "_view_count": null,
            "_view_module": "@jupyter-widgets/base",
            "_view_module_version": "1.2.0",
            "_view_name": "LayoutView",
            "align_content": null,
            "align_items": null,
            "align_self": null,
            "border": null,
            "bottom": null,
            "display": null,
            "flex": null,
            "flex_flow": null,
            "grid_area": null,
            "grid_auto_columns": null,
            "grid_auto_flow": null,
            "grid_auto_rows": null,
            "grid_column": null,
            "grid_gap": null,
            "grid_row": null,
            "grid_template_areas": null,
            "grid_template_columns": null,
            "grid_template_rows": null,
            "height": null,
            "justify_content": null,
            "justify_items": null,
            "left": null,
            "margin": null,
            "max_height": null,
            "max_width": null,
            "min_height": null,
            "min_width": null,
            "object_fit": null,
            "object_position": null,
            "order": null,
            "overflow": null,
            "overflow_x": null,
            "overflow_y": null,
            "padding": null,
            "right": null,
            "top": null,
            "visibility": null,
            "width": null
          }
        },
        "6f1f8de2d9d8411b8c8d831cb1f0f05c": {
          "model_module": "@jupyter-widgets/controls",
          "model_name": "DescriptionStyleModel",
          "model_module_version": "1.5.0",
          "state": {
            "_model_module": "@jupyter-widgets/controls",
            "_model_module_version": "1.5.0",
            "_model_name": "DescriptionStyleModel",
            "_view_count": null,
            "_view_module": "@jupyter-widgets/base",
            "_view_module_version": "1.2.0",
            "_view_name": "StyleView",
            "description_width": ""
          }
        },
        "19a3e77132c44794a16936cb16a9f578": {
          "model_module": "@jupyter-widgets/controls",
          "model_name": "HBoxModel",
          "model_module_version": "1.5.0",
          "state": {
            "_dom_classes": [],
            "_model_module": "@jupyter-widgets/controls",
            "_model_module_version": "1.5.0",
            "_model_name": "HBoxModel",
            "_view_count": null,
            "_view_module": "@jupyter-widgets/controls",
            "_view_module_version": "1.5.0",
            "_view_name": "HBoxView",
            "box_style": "",
            "children": [
              "IPY_MODEL_36fb868e70ae4eb6b8ee85c5565d83d5",
              "IPY_MODEL_55bec072c21c4f6484876b471622afee",
              "IPY_MODEL_e2730765f5fa4f47950b7e9d750928ef"
            ],
            "layout": "IPY_MODEL_90f2dc07101847309e86ec1eca6be370"
          }
        },
        "36fb868e70ae4eb6b8ee85c5565d83d5": {
          "model_module": "@jupyter-widgets/controls",
          "model_name": "HTMLModel",
          "model_module_version": "1.5.0",
          "state": {
            "_dom_classes": [],
            "_model_module": "@jupyter-widgets/controls",
            "_model_module_version": "1.5.0",
            "_model_name": "HTMLModel",
            "_view_count": null,
            "_view_module": "@jupyter-widgets/controls",
            "_view_module_version": "1.5.0",
            "_view_name": "HTMLView",
            "description": "",
            "description_tooltip": null,
            "layout": "IPY_MODEL_fc1eb0c3d66944c2928e9c44c46b1517",
            "placeholder": "​",
            "style": "IPY_MODEL_eca65f5b5d1246e684eb279ea76881da",
            "value": "Predicting DataLoader 0: 100%"
          }
        },
        "55bec072c21c4f6484876b471622afee": {
          "model_module": "@jupyter-widgets/controls",
          "model_name": "FloatProgressModel",
          "model_module_version": "1.5.0",
          "state": {
            "_dom_classes": [],
            "_model_module": "@jupyter-widgets/controls",
            "_model_module_version": "1.5.0",
            "_model_name": "FloatProgressModel",
            "_view_count": null,
            "_view_module": "@jupyter-widgets/controls",
            "_view_module_version": "1.5.0",
            "_view_name": "ProgressView",
            "bar_style": "success",
            "description": "",
            "description_tooltip": null,
            "layout": "IPY_MODEL_19a678d4e2fc420191195e584897238f",
            "max": 15,
            "min": 0,
            "orientation": "horizontal",
            "style": "IPY_MODEL_841a75e966bf4ece993f1930b6121f34",
            "value": 15
          }
        },
        "e2730765f5fa4f47950b7e9d750928ef": {
          "model_module": "@jupyter-widgets/controls",
          "model_name": "HTMLModel",
          "model_module_version": "1.5.0",
          "state": {
            "_dom_classes": [],
            "_model_module": "@jupyter-widgets/controls",
            "_model_module_version": "1.5.0",
            "_model_name": "HTMLModel",
            "_view_count": null,
            "_view_module": "@jupyter-widgets/controls",
            "_view_module_version": "1.5.0",
            "_view_name": "HTMLView",
            "description": "",
            "description_tooltip": null,
            "layout": "IPY_MODEL_3bff70a7e6314e81b3ed182928833612",
            "placeholder": "​",
            "style": "IPY_MODEL_0eb4b54cdadd440197622625a49ef15c",
            "value": " 15/15 [00:00&lt;00:00, 30.96it/s]"
          }
        },
        "90f2dc07101847309e86ec1eca6be370": {
          "model_module": "@jupyter-widgets/base",
          "model_name": "LayoutModel",
          "model_module_version": "1.2.0",
          "state": {
            "_model_module": "@jupyter-widgets/base",
            "_model_module_version": "1.2.0",
            "_model_name": "LayoutModel",
            "_view_count": null,
            "_view_module": "@jupyter-widgets/base",
            "_view_module_version": "1.2.0",
            "_view_name": "LayoutView",
            "align_content": null,
            "align_items": null,
            "align_self": null,
            "border": null,
            "bottom": null,
            "display": "inline-flex",
            "flex": null,
            "flex_flow": "row wrap",
            "grid_area": null,
            "grid_auto_columns": null,
            "grid_auto_flow": null,
            "grid_auto_rows": null,
            "grid_column": null,
            "grid_gap": null,
            "grid_row": null,
            "grid_template_areas": null,
            "grid_template_columns": null,
            "grid_template_rows": null,
            "height": null,
            "justify_content": null,
            "justify_items": null,
            "left": null,
            "margin": null,
            "max_height": null,
            "max_width": null,
            "min_height": null,
            "min_width": null,
            "object_fit": null,
            "object_position": null,
            "order": null,
            "overflow": null,
            "overflow_x": null,
            "overflow_y": null,
            "padding": null,
            "right": null,
            "top": null,
            "visibility": null,
            "width": "100%"
          }
        },
        "fc1eb0c3d66944c2928e9c44c46b1517": {
          "model_module": "@jupyter-widgets/base",
          "model_name": "LayoutModel",
          "model_module_version": "1.2.0",
          "state": {
            "_model_module": "@jupyter-widgets/base",
            "_model_module_version": "1.2.0",
            "_model_name": "LayoutModel",
            "_view_count": null,
            "_view_module": "@jupyter-widgets/base",
            "_view_module_version": "1.2.0",
            "_view_name": "LayoutView",
            "align_content": null,
            "align_items": null,
            "align_self": null,
            "border": null,
            "bottom": null,
            "display": null,
            "flex": null,
            "flex_flow": null,
            "grid_area": null,
            "grid_auto_columns": null,
            "grid_auto_flow": null,
            "grid_auto_rows": null,
            "grid_column": null,
            "grid_gap": null,
            "grid_row": null,
            "grid_template_areas": null,
            "grid_template_columns": null,
            "grid_template_rows": null,
            "height": null,
            "justify_content": null,
            "justify_items": null,
            "left": null,
            "margin": null,
            "max_height": null,
            "max_width": null,
            "min_height": null,
            "min_width": null,
            "object_fit": null,
            "object_position": null,
            "order": null,
            "overflow": null,
            "overflow_x": null,
            "overflow_y": null,
            "padding": null,
            "right": null,
            "top": null,
            "visibility": null,
            "width": null
          }
        },
        "eca65f5b5d1246e684eb279ea76881da": {
          "model_module": "@jupyter-widgets/controls",
          "model_name": "DescriptionStyleModel",
          "model_module_version": "1.5.0",
          "state": {
            "_model_module": "@jupyter-widgets/controls",
            "_model_module_version": "1.5.0",
            "_model_name": "DescriptionStyleModel",
            "_view_count": null,
            "_view_module": "@jupyter-widgets/base",
            "_view_module_version": "1.2.0",
            "_view_name": "StyleView",
            "description_width": ""
          }
        },
        "19a678d4e2fc420191195e584897238f": {
          "model_module": "@jupyter-widgets/base",
          "model_name": "LayoutModel",
          "model_module_version": "1.2.0",
          "state": {
            "_model_module": "@jupyter-widgets/base",
            "_model_module_version": "1.2.0",
            "_model_name": "LayoutModel",
            "_view_count": null,
            "_view_module": "@jupyter-widgets/base",
            "_view_module_version": "1.2.0",
            "_view_name": "LayoutView",
            "align_content": null,
            "align_items": null,
            "align_self": null,
            "border": null,
            "bottom": null,
            "display": null,
            "flex": "2",
            "flex_flow": null,
            "grid_area": null,
            "grid_auto_columns": null,
            "grid_auto_flow": null,
            "grid_auto_rows": null,
            "grid_column": null,
            "grid_gap": null,
            "grid_row": null,
            "grid_template_areas": null,
            "grid_template_columns": null,
            "grid_template_rows": null,
            "height": null,
            "justify_content": null,
            "justify_items": null,
            "left": null,
            "margin": null,
            "max_height": null,
            "max_width": null,
            "min_height": null,
            "min_width": null,
            "object_fit": null,
            "object_position": null,
            "order": null,
            "overflow": null,
            "overflow_x": null,
            "overflow_y": null,
            "padding": null,
            "right": null,
            "top": null,
            "visibility": null,
            "width": null
          }
        },
        "841a75e966bf4ece993f1930b6121f34": {
          "model_module": "@jupyter-widgets/controls",
          "model_name": "ProgressStyleModel",
          "model_module_version": "1.5.0",
          "state": {
            "_model_module": "@jupyter-widgets/controls",
            "_model_module_version": "1.5.0",
            "_model_name": "ProgressStyleModel",
            "_view_count": null,
            "_view_module": "@jupyter-widgets/base",
            "_view_module_version": "1.2.0",
            "_view_name": "StyleView",
            "bar_color": null,
            "description_width": ""
          }
        },
        "3bff70a7e6314e81b3ed182928833612": {
          "model_module": "@jupyter-widgets/base",
          "model_name": "LayoutModel",
          "model_module_version": "1.2.0",
          "state": {
            "_model_module": "@jupyter-widgets/base",
            "_model_module_version": "1.2.0",
            "_model_name": "LayoutModel",
            "_view_count": null,
            "_view_module": "@jupyter-widgets/base",
            "_view_module_version": "1.2.0",
            "_view_name": "LayoutView",
            "align_content": null,
            "align_items": null,
            "align_self": null,
            "border": null,
            "bottom": null,
            "display": null,
            "flex": null,
            "flex_flow": null,
            "grid_area": null,
            "grid_auto_columns": null,
            "grid_auto_flow": null,
            "grid_auto_rows": null,
            "grid_column": null,
            "grid_gap": null,
            "grid_row": null,
            "grid_template_areas": null,
            "grid_template_columns": null,
            "grid_template_rows": null,
            "height": null,
            "justify_content": null,
            "justify_items": null,
            "left": null,
            "margin": null,
            "max_height": null,
            "max_width": null,
            "min_height": null,
            "min_width": null,
            "object_fit": null,
            "object_position": null,
            "order": null,
            "overflow": null,
            "overflow_x": null,
            "overflow_y": null,
            "padding": null,
            "right": null,
            "top": null,
            "visibility": null,
            "width": null
          }
        },
        "0eb4b54cdadd440197622625a49ef15c": {
          "model_module": "@jupyter-widgets/controls",
          "model_name": "DescriptionStyleModel",
          "model_module_version": "1.5.0",
          "state": {
            "_model_module": "@jupyter-widgets/controls",
            "_model_module_version": "1.5.0",
            "_model_name": "DescriptionStyleModel",
            "_view_count": null,
            "_view_module": "@jupyter-widgets/base",
            "_view_module_version": "1.2.0",
            "_view_name": "StyleView",
            "description_width": ""
          }
        }
      }
    }
  },
  "cells": [
    {
      "cell_type": "markdown",
      "metadata": {
        "id": "view-in-github",
        "colab_type": "text"
      },
      "source": [
        "<a href=\"https://colab.research.google.com/github/Max1897/ECE7363_project/blob/main/src/ECE7363_TCN.ipynb\" target=\"_parent\"><img src=\"https://colab.research.google.com/assets/colab-badge.svg\" alt=\"Open In Colab\"/></a>"
      ]
    },
    {
      "cell_type": "markdown",
      "source": [
        "Reference: https://colab.research.google.com/drive/1MVHhaOw2Xro3RMN4ApDCDo7R9taLCRYJ#scrollTo=1mbvfJAcZCGY"
      ],
      "metadata": {
        "id": "d-2FRSIcoi47"
      }
    },
    {
      "cell_type": "code",
      "source": [
        "!pip install 'u8darts[all]'"
      ],
      "metadata": {
        "id": "2BmVjhaUomlb"
      },
      "execution_count": null,
      "outputs": []
    },
    {
      "cell_type": "code",
      "source": [
        "import pandas as pd\n",
        "import numpy as np\n",
        "import torch\n",
        "import matplotlib.pyplot as plt\n",
        "from tqdm.notebook import tqdm\n",
        "\n",
        "from darts import TimeSeries\n",
        "from darts.utils.timeseries_generation import (\n",
        "    gaussian_timeseries,\n",
        "    linear_timeseries,\n",
        "    sine_timeseries,\n",
        ")\n",
        "from darts.models import TCNModel\n",
        "\n",
        "from darts.metrics import mape, smape, mae\n",
        "from darts.dataprocessing.transformers import Scaler\n",
        "from darts.utils.timeseries_generation import datetime_attribute_timeseries\n",
        "from datetime import datetime\n",
        "\n",
        "import logging\n",
        "\n",
        "logging.disable(logging.CRITICAL)\n",
        "\n",
        "import warnings\n",
        "\n",
        "warnings.filterwarnings(\"ignore\")\n",
        "\n",
        "\n",
        "%matplotlib inline\n",
        "\n",
        "# for reproducibility\n",
        "torch.manual_seed(1)\n",
        "np.random.seed(1)"
      ],
      "metadata": {
        "id": "UHPA5AGFoqCO"
      },
      "execution_count": 55,
      "outputs": []
    },
    {
      "cell_type": "code",
      "source": [
        "from google.colab import drive\n",
        "drive.mount('/content/drive')\n",
        "work_dir = \"/content/drive/MyDrive/Colab Notebooks/data/Network_proj/TCN/\""
      ],
      "metadata": {
        "colab": {
          "base_uri": "https://localhost:8080/"
        },
        "id": "qoUPVGLypJfK",
        "outputId": "c746412b-4955-4767-dfca-ad76984e7b24"
      },
      "execution_count": 5,
      "outputs": [
        {
          "output_type": "stream",
          "name": "stdout",
          "text": [
            "Mounted at /content/drive\n"
          ]
        }
      ]
    },
    {
      "cell_type": "markdown",
      "source": [
        "#**Prepare data**"
      ],
      "metadata": {
        "id": "ELQvij3fq44e"
      }
    },
    {
      "cell_type": "code",
      "source": [
        "def change_granularity(data, addup = 1):\n",
        "  data_length = data.shape[0]\n",
        "  Temp = np.sum(data[0:addup],axis = 0)\n",
        "  itr_end = data_length // addup\n",
        "  for i in tqdm(range(1,itr_end)):\n",
        "    temp0 = np.sum(data[i*addup:i*addup+addup],axis = 0)\n",
        "    Temp = np.vstack((Temp,temp0))\n",
        "  \n",
        "  return Temp"
      ],
      "metadata": {
        "id": "een-3la3rDu3"
      },
      "execution_count": 6,
      "outputs": []
    },
    {
      "cell_type": "code",
      "source": [
        "#Read files\n",
        "train_data = np.loadtxt(\"/content/drive/MyDrive/Colab Notebooks/data/Network_proj/\" + \"GEANT_train.txt\",dtype = float)\n",
        "test_data = np.loadtxt(\"/content/drive/MyDrive/Colab Notebooks/data/Network_proj/\" + \"GEANT_test.txt\",dtype = float)"
      ],
      "metadata": {
        "id": "DkJpl2pNpuyh"
      },
      "execution_count": 7,
      "outputs": []
    },
    {
      "cell_type": "code",
      "source": [
        "num_nodes = 22\n",
        "ind = []\n",
        "for i in range(num_nodes):\n",
        "  for j in range(num_nodes):\n",
        "    if i == j :ind.append(i*num_nodes + j)\n",
        "\n",
        "mask = np.ones((num_nodes ** 2), dtype = bool)\n",
        "mask[[ind]] = False\n",
        "Train_data = train_data[:,mask]\n",
        "Test_data = test_data[:,mask]"
      ],
      "metadata": {
        "id": "uHquPfvnqWok"
      },
      "execution_count": 8,
      "outputs": []
    },
    {
      "cell_type": "code",
      "source": [
        "gran_addup = 2\n",
        "Train_data = change_granularity(Train_data,gran_addup)\n",
        "Test_data = change_granularity(Test_data,gran_addup)"
      ],
      "metadata": {
        "colab": {
          "base_uri": "https://localhost:8080/",
          "height": 81,
          "referenced_widgets": [
            "9cde7862817f4a4099b11b6431e6328b",
            "8e128dc277164d11b0b29ceacba0156d",
            "56baf4c4f204445bb2268c836f30b8cb",
            "e7f9d7aacbb14e319fc4b6e2e1b56fa3",
            "344a14527f9b4ff39a36403d9139d889",
            "8c299b0df07f47e98ea564bc516da577",
            "5c29708c114647cea8fa29320814d653",
            "be4ec68e1e59494d8b201d1aedf9726a",
            "ea59f7bef86d498786655050a3a8116b",
            "c39c924837c145e3906d9bdbf4cb6733",
            "3594eb38b3674e42a2cbd1b6ee4d20f8",
            "7aebfa54de4645b68ebdec79ba82f782",
            "f0f873d51b1c4befb5a2a7875f1af930",
            "9df849ebb3544edcb0efdb50e056f82f",
            "60987daf9f8045b7b495cca59243355d",
            "4aab8639b59e4a8194fcf49b8b3bcf0b",
            "a7da9a395f6240329c18e51f13ff6cad",
            "60ff1cbae2474013adce700bfe428992",
            "c6368847299146948b2d64c1f6f29dfe",
            "dd6e9178610e4af08da98bf6e7e3878b",
            "6c6ba4e4ce8a488fb88d31c3e8d1d401",
            "6f1f8de2d9d8411b8c8d831cb1f0f05c"
          ]
        },
        "id": "cFXF-8SwrFwX",
        "outputId": "14c0d6d7-366b-4c5f-efab-905616645d7b"
      },
      "execution_count": 9,
      "outputs": [
        {
          "output_type": "display_data",
          "data": {
            "text/plain": [
              "  0%|          | 0/4039 [00:00<?, ?it/s]"
            ],
            "application/vnd.jupyter.widget-view+json": {
              "version_major": 2,
              "version_minor": 0,
              "model_id": "9cde7862817f4a4099b11b6431e6328b"
            }
          },
          "metadata": {}
        },
        {
          "output_type": "display_data",
          "data": {
            "text/plain": [
              "  0%|          | 0/1345 [00:00<?, ?it/s]"
            ],
            "application/vnd.jupyter.widget-view+json": {
              "version_major": 2,
              "version_minor": 0,
              "model_id": "7aebfa54de4645b68ebdec79ba82f782"
            }
          },
          "metadata": {}
        }
      ]
    },
    {
      "cell_type": "code",
      "source": [
        "All = np.vstack((Train_data,Test_data))"
      ],
      "metadata": {
        "id": "PGDDE63jrad0"
      },
      "execution_count": 10,
      "outputs": []
    },
    {
      "cell_type": "markdown",
      "source": [
        "Making each demand pair a TimeSeries"
      ],
      "metadata": {
        "id": "WW52l78druZ8"
      }
    },
    {
      "cell_type": "code",
      "source": [
        "SERIES = []\n",
        "for d in All.T:\n",
        "  df = pd.DataFrame(d)\n",
        "  series = TimeSeries.from_dataframe(df)\n",
        "  SERIES.append(series)"
      ],
      "metadata": {
        "id": "2WweeJjbrq4R"
      },
      "execution_count": 11,
      "outputs": []
    },
    {
      "cell_type": "markdown",
      "source": [
        "#**Pre - Processing**"
      ],
      "metadata": {
        "id": "JS0XbDF7tli7"
      }
    },
    {
      "cell_type": "markdown",
      "source": [
        "scaling"
      ],
      "metadata": {
        "id": "XqAgURmSu9Th"
      }
    },
    {
      "cell_type": "code",
      "source": [
        "SCALERS = []\n",
        "SCALED_SERIES = []\n",
        "for ts in SERIES:\n",
        "  scaler = Scaler()\n",
        "  series_scaled = scaler.fit_transform(ts)\n",
        "  SCALERS.append(scaler)\n",
        "  SCALED_SERIES.append(series_scaled)"
      ],
      "metadata": {
        "id": "j-7-deCMtlDK"
      },
      "execution_count": 12,
      "outputs": []
    },
    {
      "cell_type": "markdown",
      "source": [
        "train, test split"
      ],
      "metadata": {
        "id": "w37ZHyNivH_D"
      }
    },
    {
      "cell_type": "code",
      "source": [
        "TRAIN_SERIES = []\n",
        "TEST_SERIES = []\n",
        "for ts in SCALED_SERIES:\n",
        "  train_series = ts[:4400]\n",
        "  test_series = ts[4400:]\n",
        "  TRAIN_SERIES.append(train_series)\n",
        "  TEST_SERIES.append(test_series)"
      ],
      "metadata": {
        "id": "3-Fgy0m0vAZt"
      },
      "execution_count": 13,
      "outputs": []
    },
    {
      "cell_type": "markdown",
      "source": [
        "#**Model Setup**"
      ],
      "metadata": {
        "id": "QUUTwZH_xpsX"
      }
    },
    {
      "cell_type": "code",
      "source": [
        "MODEL = TCNModel(\n",
        "    input_chunk_length=10,\n",
        "    output_chunk_length=1, \n",
        "    n_epochs=15, \n",
        "    dropout=0.2, \n",
        "    dilation_base=2, \n",
        "    weight_norm=True,\n",
        "    kernel_size=3,\n",
        "    num_filters=1,\n",
        "    random_state=0,\n",
        "    save_checkpoints = True,\n",
        "    pl_trainer_kwargs={\n",
        "      \"accelerator\": \"gpu\",\n",
        "      \"devices\": [0]\n",
        "    }\n",
        ")"
      ],
      "metadata": {
        "id": "CXBk1c9KxrnE"
      },
      "execution_count": 14,
      "outputs": []
    },
    {
      "cell_type": "markdown",
      "source": [
        "#**Model Training**\n",
        "Estimated 2h"
      ],
      "metadata": {
        "id": "M-1ym3EX20jC"
      }
    },
    {
      "cell_type": "code",
      "source": [
        "# MODEL.fit(TRAIN_SERIES,verbose = True)\n",
        "# MODEL.save(work_dir + \"TCN.pkl\")"
      ],
      "metadata": {
        "id": "I0Oe0LKLyB3o"
      },
      "execution_count": 15,
      "outputs": []
    },
    {
      "cell_type": "markdown",
      "source": [
        "#**Prediction**"
      ],
      "metadata": {
        "id": "bkPJcwonGrqw"
      }
    },
    {
      "cell_type": "code",
      "source": [
        "MODEL = TCNModel.load(work_dir + \"TCN.pkl\")"
      ],
      "metadata": {
        "id": "XFoZUb8N7p6P"
      },
      "execution_count": 22,
      "outputs": []
    },
    {
      "cell_type": "code",
      "source": [
        "def random_data(TEST_SERIES):\n",
        "  r = np.random.randint(10,986)\n",
        "  sequences = []\n",
        "  data_point = []\n",
        "  for ts in TEST_SERIES:\n",
        "    sequences.append(ts[r-10:r])\n",
        "    data_point.append(ts[r])\n",
        "  return data_point, sequences\n",
        "\n",
        "# def inverse_scale()"
      ],
      "metadata": {
        "id": "KN3olWVXNeh1"
      },
      "execution_count": 49,
      "outputs": []
    },
    {
      "cell_type": "code",
      "source": [
        "data_point, sequences = random_data(TEST_SERIES)\n",
        "\n",
        "pred = MODEL.predict(n = 1,series = sequences)"
      ],
      "metadata": {
        "colab": {
          "base_uri": "https://localhost:8080/",
          "height": 49,
          "referenced_widgets": [
            "19a3e77132c44794a16936cb16a9f578",
            "36fb868e70ae4eb6b8ee85c5565d83d5",
            "55bec072c21c4f6484876b471622afee",
            "e2730765f5fa4f47950b7e9d750928ef",
            "90f2dc07101847309e86ec1eca6be370",
            "fc1eb0c3d66944c2928e9c44c46b1517",
            "eca65f5b5d1246e684eb279ea76881da",
            "19a678d4e2fc420191195e584897238f",
            "841a75e966bf4ece993f1930b6121f34",
            "3bff70a7e6314e81b3ed182928833612",
            "0eb4b54cdadd440197622625a49ef15c"
          ]
        },
        "id": "bhuB7Dis-DeO",
        "outputId": "b9b79919-5f19-4a95-d7c1-56ef05b73f99"
      },
      "execution_count": 82,
      "outputs": [
        {
          "output_type": "display_data",
          "data": {
            "text/plain": [
              "Predicting: 0it [00:00, ?it/s]"
            ],
            "application/vnd.jupyter.widget-view+json": {
              "version_major": 2,
              "version_minor": 0,
              "model_id": "19a3e77132c44794a16936cb16a9f578"
            }
          },
          "metadata": {}
        }
      ]
    },
    {
      "cell_type": "markdown",
      "source": [
        "inverse transform"
      ],
      "metadata": {
        "id": "DuxkxSGvI5oT"
      }
    },
    {
      "cell_type": "code",
      "source": [
        "pred_inv = []\n",
        "true_data = []\n",
        "for i in range(462):\n",
        "  p = SCALERS[i].inverse_transform(pred[i])\n",
        "  t = SCALERS[i].inverse_transform(data_point[i])\n",
        "  pred_inv.append(p)\n",
        "  true_data.append(t)\n"
      ],
      "metadata": {
        "id": "xBXh0FL1G3Lw"
      },
      "execution_count": 83,
      "outputs": []
    },
    {
      "cell_type": "markdown",
      "source": [
        "#**Output to AMPL**"
      ],
      "metadata": {
        "id": "NMlvNHhgI8Sl"
      }
    },
    {
      "cell_type": "code",
      "source": [
        "def output_to_AMPL(demands,dir):\n",
        "  \n",
        "  demand_matrix = []\n",
        "  for i in range(1,23):\n",
        "    line0 = repr(i) \n",
        "    for j in range(1,23):\n",
        "      if i == j: continue\n",
        "      line1 = line0 + \" \" + repr(j)\n",
        "      demand_matrix.append(line1)\n",
        "\n",
        "\n",
        "  f = open(dir,'w')\n",
        "  for i,d in enumerate(demands):\n",
        "    d = np.squeeze(d.values())\n",
        "    d = np.ndarray.tolist(d)\n",
        "    if d < 0: d = 0.0\n",
        "    demand_matrix[i] = repr(i+1) + \" \"+ demand_matrix[i] + \" \" + repr(d) + \"\\n\"\n",
        "    f.write(demand_matrix[i])\n",
        "  f.close()\n",
        "\n",
        "  return demand_matrix"
      ],
      "metadata": {
        "id": "cyXFN9S7BDka"
      },
      "execution_count": 71,
      "outputs": []
    },
    {
      "cell_type": "code",
      "source": [
        "now = datetime.now()\n",
        "date_time = now.strftime(\"%d%H%M%S\")\n",
        "output_dir = \"/content/drive/MyDrive/Colab Notebooks/data/Network_proj/AMPL demands/\"\n",
        "pred_dir = output_dir + date_time + \"TCN_pred.txt\"\n",
        "true_dir = output_dir + date_time + \"TCN_true.txt\"\n",
        "demand_matrix_pred = output_to_AMPL(pred_inv,pred_dir)\n",
        "demand_matrix_true = output_to_AMPL(true_data,true_dir)"
      ],
      "metadata": {
        "id": "fiawvDBUJsS0"
      },
      "execution_count": 84,
      "outputs": []
    },
    {
      "cell_type": "markdown",
      "source": [
        "#**Script**"
      ],
      "metadata": {
        "id": "Yc6GdhZ1Nb6P"
      }
    },
    {
      "cell_type": "code",
      "source": [
        "l = np.squeeze(pred_inv[0].values())\n",
        "np.ndarray.tolist(l)"
      ],
      "metadata": {
        "colab": {
          "base_uri": "https://localhost:8080/"
        },
        "id": "1iBRFecn5pVH",
        "outputId": "46651856-ef36-41c7-cb9f-021cda729670"
      },
      "execution_count": 70,
      "outputs": [
        {
          "output_type": "execute_result",
          "data": {
            "text/plain": [
              "61.023843244984285"
            ]
          },
          "metadata": {},
          "execution_count": 70
        }
      ]
    }
  ]
}