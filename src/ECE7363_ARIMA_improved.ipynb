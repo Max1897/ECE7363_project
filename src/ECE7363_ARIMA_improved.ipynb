{
  "cells": [
    {
      "cell_type": "markdown",
      "metadata": {
        "id": "view-in-github",
        "colab_type": "text"
      },
      "source": [
        "<a href=\"https://colab.research.google.com/github/Max1897/ECE7363_project/blob/main/src/ECE7363_ARIMA_improved.ipynb\" target=\"_parent\"><img src=\"https://colab.research.google.com/assets/colab-badge.svg\" alt=\"Open In Colab\"/></a>"
      ]
    },
    {
      "cell_type": "code",
      "execution_count": null,
      "metadata": {
        "id": "ClqInjJx4MXb"
      },
      "outputs": [],
      "source": [
        "!pip install statsforecast"
      ]
    },
    {
      "cell_type": "code",
      "execution_count": 2,
      "metadata": {
        "id": "edzJgrwplvXg",
        "colab": {
          "base_uri": "https://localhost:8080/"
        },
        "outputId": "cd33747e-bcb8-4d15-aabb-4922c0094ce3"
      },
      "outputs": [
        {
          "output_type": "stream",
          "name": "stderr",
          "text": [
            "/usr/local/lib/python3.10/dist-packages/statsforecast/core.py:21: TqdmExperimentalWarning: Using `tqdm.autonotebook.tqdm` in notebook mode. Use `tqdm.tqdm` instead to force console mode (e.g. in jupyter console)\n",
            "  from tqdm.autonotebook import tqdm\n"
          ]
        }
      ],
      "source": [
        "\n",
        "import pandas as pd\n",
        "import math\n",
        "import numpy as np\n",
        "import statsmodels.api as sm\n",
        "import matplotlib.pyplot as plt\n",
        "from statsforecast import StatsForecast\n",
        "from statsforecast.models import AutoARIMA\n",
        "from tqdm import tqdm\n",
        "import pandas as pd\n",
        "import time\n",
        "\n",
        "from datetime import datetime\n"
      ]
    },
    {
      "cell_type": "code",
      "execution_count": 3,
      "metadata": {
        "colab": {
          "base_uri": "https://localhost:8080/"
        },
        "id": "0cfrrM80l2jz",
        "outputId": "f43984d6-566d-4834-eb10-c350c18f7427"
      },
      "outputs": [
        {
          "output_type": "stream",
          "name": "stdout",
          "text": [
            "Mounted at /content/drive\n"
          ]
        }
      ],
      "source": [
        "from google.colab import drive\n",
        "drive.mount('/content/drive')\n",
        "\n",
        "work_dir = \"/content/drive/MyDrive/Colab Notebooks/data/Network_proj/\""
      ]
    },
    {
      "cell_type": "markdown",
      "metadata": {
        "id": "6P0CsyOQmw2-"
      },
      "source": [
        "# **Process Data**  "
      ]
    },
    {
      "cell_type": "code",
      "execution_count": 56,
      "metadata": {
        "id": "XDTEhqSyl4dU"
      },
      "outputs": [],
      "source": [
        "#Read files\n",
        "train_data = np.loadtxt(work_dir + \"GEANT_train.txt\",dtype = float)\n",
        "test_data = np.loadtxt(work_dir + \"GEANT_test.txt\",dtype = float)\n",
        "All = np.vstack((train_data,test_data))"
      ]
    },
    {
      "cell_type": "code",
      "execution_count": 5,
      "metadata": {
        "id": "S1PSg-2TpEdU"
      },
      "outputs": [],
      "source": [
        "#The originate unit is 15min, the second parameter means add up \"addup\" units. (4 means a hour)\n",
        "def change_granularity(data, addup = 1):\n",
        "  data_length = data.shape[0]\n",
        "  Temp = np.sum(data[0:addup],axis = 0)\n",
        "  itr_end = data_length // addup\n",
        "  for i in tqdm(range(1,itr_end)):\n",
        "    temp0 = np.sum(data[i*addup:i*addup+addup],axis = 0)\n",
        "    Temp = np.vstack((Temp,temp0))\n",
        "  \n",
        "  return Temp"
      ]
    },
    {
      "cell_type": "markdown",
      "metadata": {
        "id": "eYklP1kMpQmp"
      },
      "source": [
        "### Delete the demands column where source and target are the same"
      ]
    },
    {
      "cell_type": "code",
      "execution_count": 57,
      "metadata": {
        "colab": {
          "base_uri": "https://localhost:8080/"
        },
        "id": "f2B-IRfcpHJ2",
        "outputId": "472f535c-11ef-460d-fb84-bd0a7ff34d1a"
      },
      "outputs": [
        {
          "output_type": "stream",
          "name": "stderr",
          "text": [
            "<ipython-input-57-0c439d3be0f2>:8: FutureWarning: Using a non-tuple sequence for multidimensional indexing is deprecated; use `arr[tuple(seq)]` instead of `arr[seq]`. In the future this will be interpreted as an array index, `arr[np.array(seq)]`, which will result either in an error or a different result.\n",
            "  mask[[ind]] = False\n"
          ]
        }
      ],
      "source": [
        "num_nodes = 22\n",
        "ind = []\n",
        "for i in range(num_nodes):\n",
        "  for j in range(num_nodes):\n",
        "    if i == j :ind.append(i*num_nodes + j)\n",
        "\n",
        "mask = np.ones((num_nodes ** 2), dtype = bool)\n",
        "mask[[ind]] = False\n",
        "All = All[:,mask]\n"
      ]
    },
    {
      "cell_type": "markdown",
      "metadata": {
        "id": "ctbeS4m_pT05"
      },
      "source": [
        "### Choose granularity"
      ]
    },
    {
      "cell_type": "code",
      "execution_count": 58,
      "metadata": {
        "colab": {
          "base_uri": "https://localhost:8080/"
        },
        "id": "WgVpBv1FpVdb",
        "outputId": "166e6e33-96d9-49e2-e0ed-0490f453a56c"
      },
      "outputs": [
        {
          "output_type": "stream",
          "name": "stderr",
          "text": [
            "100%|██████████| 5385/5385 [00:11<00:00, 488.38it/s]\n"
          ]
        }
      ],
      "source": [
        "gran_addup = 2\n",
        "All = change_granularity(All,gran_addup)"
      ]
    },
    {
      "cell_type": "markdown",
      "source": [
        "###Getting ready for ARIMA"
      ],
      "metadata": {
        "id": "qkDyKEA4HU3N"
      }
    },
    {
      "cell_type": "code",
      "execution_count": 59,
      "metadata": {
        "id": "fX_dvK8IHOCy"
      },
      "outputs": [],
      "source": [
        "data_set = All.T"
      ]
    },
    {
      "cell_type": "markdown",
      "metadata": {
        "id": "LweCorwrrof0"
      },
      "source": [
        "#**Model settup**"
      ]
    },
    {
      "cell_type": "code",
      "execution_count": 60,
      "metadata": {
        "colab": {
          "base_uri": "https://localhost:8080/"
        },
        "id": "0EkFVzp_wMMf",
        "outputId": "7eed0259-5f12-4f9c-a0ba-c54eec312cd4"
      },
      "outputs": [
        {
          "output_type": "stream",
          "name": "stderr",
          "text": [
            "100%|██████████| 462/462 [00:00<00:00, 316215.48it/s]\n"
          ]
        }
      ],
      "source": [
        "AR = []\n",
        "for i in tqdm(range(462)):\n",
        "  ar = AutoARIMA()\n",
        "  AR.append(ar)\n"
      ]
    },
    {
      "cell_type": "markdown",
      "source": [
        "#**Model training**"
      ],
      "metadata": {
        "id": "WZvoyCS8KwFT"
      }
    },
    {
      "cell_type": "code",
      "source": [
        "start = 800\n",
        "end = 1300"
      ],
      "metadata": {
        "id": "8ibWJmpTlFgB"
      },
      "execution_count": 65,
      "outputs": []
    },
    {
      "cell_type": "code",
      "source": [
        "for i in tqdm(range(462)):\n",
        "  ar = AR[i]\n",
        "  ar.fit(data_set[i][start:end])"
      ],
      "metadata": {
        "colab": {
          "base_uri": "https://localhost:8080/"
        },
        "id": "wmlFa3YcKzQL",
        "outputId": "02633a69-a3fc-4f82-c08d-e846402a4dc6"
      },
      "execution_count": 66,
      "outputs": [
        {
          "output_type": "stream",
          "name": "stderr",
          "text": [
            "100%|██████████| 462/462 [03:51<00:00,  1.99it/s]\n"
          ]
        }
      ]
    },
    {
      "cell_type": "markdown",
      "source": [
        "#**Prediction**"
      ],
      "metadata": {
        "id": "Z0CI7R5rLH15"
      }
    },
    {
      "cell_type": "code",
      "source": [
        "FC = []\n",
        "for i in range(462):\n",
        "  fc = AR[i].predict(h = 1,level = [90])\n",
        "  FC.append(fc[\"mean\"])\n",
        "FC = np.array(FC)\n",
        "true = data_set[:,end]\n",
        "  \n",
        "plt.plot(FC, color = 'red', label = 'Prediction')\n",
        "plt.plot(true, color = 'blue', label = \"True\")\n",
        "plt.title(\"Demand value on one timestep\")\n",
        "plt.legend()\n",
        "plt.show()"
      ],
      "metadata": {
        "colab": {
          "base_uri": "https://localhost:8080/",
          "height": 452
        },
        "id": "1AuN5oPyluOa",
        "outputId": "e346a897-aba1-4bbc-d4ed-1f5445fb3cf8"
      },
      "execution_count": 69,
      "outputs": [
        {
          "output_type": "display_data",
          "data": {
            "text/plain": [
              "<Figure size 640x480 with 1 Axes>"
            ],
            "image/png": "[encoded data removed]"
          },
          "metadata": {}
        }
      ]
    },
    {
      "cell_type": "markdown",
      "source": [
        "#**Output to AMPL**"
      ],
      "metadata": {
        "id": "W69jFABPLB0J"
      }
    },
    {
      "cell_type": "code",
      "execution_count": null,
      "metadata": {
        "id": "nmh4nsOEhYpe"
      },
      "outputs": [],
      "source": [
        "def output_to_AMPL(demands,dir):\n",
        "  \n",
        "  demand_matrix = []\n",
        "  for i in range(1,23):\n",
        "    line0 = repr(i) \n",
        "    for j in range(1,23):\n",
        "      if i == j: continue\n",
        "      line1 = line0 + \" \" + repr(j)\n",
        "      demand_matrix.append(line1)\n",
        "\n",
        "\n",
        "  f = open(dir,'w')\n",
        "  for i,d in enumerate(np.squeeze(demands)):\n",
        "    if d < 0: d = 0.0\n",
        "    demand_matrix[i] = repr(i+1) + \" \"+ demand_matrix[i] + \" \" + repr(d) + \"\\n\"\n",
        "    f.write(demand_matrix[i])\n",
        "  f.close()\n",
        "\n",
        "  return demand_matrix\n",
        "\n",
        "now = datetime.now()\n",
        "date_time = now.strftime(\"%d%H%M\")\n",
        "pred_dir = work_dir + 'AMPL demands/' + date_time + \"ARIMA_pred.txt\"\n",
        "true_dir = work_dir + 'AMPL demands/' + date_time + \"ARIMA_true.txt\"\n",
        "output_to_AMPL(FC,pred_dir)\n",
        "output_to_AMPL(true,true_dir)"
      ]
    }
  ],
  "metadata": {
    "accelerator": "GPU",
    "colab": {
      "machine_shape": "hm",
      "provenance": [],
      "gpuType": "A100",
      "include_colab_link": true
    },
    "gpuClass": "standard",
    "kernelspec": {
      "display_name": "Python 3",
      "name": "python3"
    },
    "language_info": {
      "name": "python"
    }
  },
  "nbformat": 4,
  "nbformat_minor": 0
}